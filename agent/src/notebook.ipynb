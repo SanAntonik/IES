{
 "cells": [
  {
   "cell_type": "code",
   "execution_count": 3,
   "metadata": {},
   "outputs": [
    {
     "name": "stdout",
     "output_type": "stream",
     "text": [
      "INITIATION\n",
      "data/accelerometer.csv\n",
      "data/gps.csv\n"
     ]
    }
   ],
   "source": [
    "# from paho.mqtt import client as mqtt_client\n",
    "import json\n",
    "import time\n",
    "from schema.aggregated_data_schema import AggregatedDataSchema\n",
    "from file_datasource import FileDatasource\n",
    "import config\n",
    "\n",
    "\n",
    "datasource = FileDatasource(\"data/accelerometer.csv\", \"data/gps.csv\")"
   ]
  },
  {
   "cell_type": "code",
   "execution_count": 4,
   "metadata": {},
   "outputs": [
    {
     "name": "stdout",
     "output_type": "stream",
     "text": [
      "OPENING FILES...\n",
      "OPENING FILES COMPLETED\n",
      "\n",
      "READING...\n",
      "Cycle: 1\n",
      "Accelerometer data: ['-17', '4', '16516']\n",
      "GPS data: ['50.450386085935094', '30.524547100067142']\n",
      "READING CYCLE COMPLETED\n",
      "\n",
      "READING...\n",
      "Cycle: 2\n",
      "Accelerometer data: ['-58', '114', '16546']\n",
      "GPS data: ['50.45050063818424', '30.52432932092009']\n",
      "READING CYCLE COMPLETED\n",
      "\n"
     ]
    },
    {
     "data": {
      "text/plain": [
       "AggregatedData(accelerometer=Accelerometer(x='-58', y='114', z='16546'), gps=Gps(longitude='50.45050063818424', latitude='30.52432932092009'), timestamp=datetime.datetime(2024, 2, 28, 11, 56, 11, 53852), user_id=1)"
      ]
     },
     "execution_count": 4,
     "metadata": {},
     "output_type": "execute_result"
    }
   ],
   "source": [
    "datasource.startReading()\n",
    "data = datasource.read()\n",
    "data = datasource.read()\n",
    "\n",
    "data"
   ]
  }
 ],
 "metadata": {
  "kernelspec": {
   "display_name": "venv",
   "language": "python",
   "name": "python3"
  },
  "language_info": {
   "codemirror_mode": {
    "name": "ipython",
    "version": 3
   },
   "file_extension": ".py",
   "mimetype": "text/x-python",
   "name": "python",
   "nbconvert_exporter": "python",
   "pygments_lexer": "ipython3",
   "version": "3.10.2"
  }
 },
 "nbformat": 4,
 "nbformat_minor": 2
}
